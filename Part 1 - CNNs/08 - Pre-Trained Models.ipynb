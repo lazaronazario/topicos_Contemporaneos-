{
 "cells": [
  {
   "cell_type": "code",
   "execution_count": null,
   "metadata": {},
   "outputs": [],
   "source": [
    "import torch\n",
    "import requests\n",
    "import numpy as np\n",
    "from PIL import Image\n",
    "from torchvision import models\n",
    "import matplotlib.pyplot as plt"
   ]
  },
  {
   "cell_type": "code",
   "execution_count": null,
   "metadata": {},
   "outputs": [],
   "source": [
    "weights = models.ResNet50_Weights.IMAGENET1K_V1\n",
    "model = models.resnet50(weights=weights)"
   ]
  },
  {
   "cell_type": "code",
   "execution_count": null,
   "metadata": {},
   "outputs": [],
   "source": [
    "def load_image_from_url(url):\n",
    "    response = requests.get(url)\n",
    "    img = Image.open(requests.get(url, stream=True).raw)\n",
    "    return img\n",
    "\n",
    "def plot_image(img):\n",
    "    img = np.array(img)\n",
    "    plt.imshow(img)\n",
    "    plt.axis(\"off\")\n",
    "    plt.show()\n",
    "\n",
    "def get_top5_predictions(model, img, weights=weights):\n",
    "    model.eval()\n",
    "\n",
    "    with torch.no_grad():\n",
    "        output = model(img)\n",
    "\n",
    "    probabilities = torch.nn.functional.softmax(output[0], dim=0)\n",
    "    top5_prob, top5_catid = torch.topk(probabilities, 5)\n",
    "    categories = weights.meta[\"categories\"]\n",
    "    top5 = [(categories[catid], prob.item()) for catid, prob in zip(top5_catid, top5_prob)]\n",
    "\n",
    "    return top5"
   ]
  },
  {
   "cell_type": "code",
   "execution_count": null,
   "metadata": {},
   "outputs": [],
   "source": [
    "urls = [\n",
    "    \"http://images.cocodataset.org/test-stuff2017/000000024309.jpg\",\n",
    "    \"http://images.cocodataset.org/test-stuff2017/000000028117.jpg\",\n",
    "    \"http://images.cocodataset.org/test-stuff2017/000000006149.jpg\",\n",
    "    \"http://images.cocodataset.org/test-stuff2017/000000004954.jpg\",\n",
    "]\n",
    "\n",
    "preprocess = weights.transforms()\n",
    "\n",
    "for url in urls:\n",
    "    image = load_image_from_url(url)\n",
    "\n",
    "    plot_image(image)\n",
    "\n",
    "    image = preprocess(image).unsqueeze(0)\n",
    "    predictions = get_top5_predictions(model, image)\n",
    "    for cat, prob in predictions:\n",
    "        print(f\"{cat}: {prob:.2f}\")\n",
    "    print()"
   ]
  },
  {
   "cell_type": "markdown",
   "metadata": {},
   "source": [
    "## Exercícios"
   ]
  },
  {
   "cell_type": "markdown",
   "metadata": {},
   "source": [
    "### Exercício 1\n",
    "Compare os resultados obtidos com o conjunto de pesos `IMAGENET1K_V2`."
   ]
  },
  {
   "cell_type": "code",
   "execution_count": null,
   "metadata": {},
   "outputs": [],
   "source": [
    "# Carregando o modelo ResNet50 com pesos IMAGENET1K_V2\n",
    "weights_v2 = models.ResNet50_Weights.IMAGENET1K_V2\n",
    "model_v2 = models.resnet50(weights=weights_v2)\n",
    "\n",
    "def load_image_from_url(url):\n",
    "    response = requests.get(url)\n",
    "    img = Image.open(requests.get(url, stream=True).raw)\n",
    "    return img\n",
    "\n",
    "def plot_image(img):\n",
    "    img = np.array(img)\n",
    "    plt.imshow(img)\n",
    "    plt.axis(\"off\")\n",
    "    plt.show()\n",
    "\n",
    "def get_top5_predictions(model, img, weights):\n",
    "    model.eval()\n",
    "\n",
    "    with torch.no_grad():\n",
    "        output = model(img)\n",
    "\n",
    "    probabilities = torch.nn.functional.softmax(output[0], dim=0)\n",
    "    top5_prob, top5_catid = torch.topk(probabilities, 5)\n",
    "    categories = weights.meta[\"categories\"]\n",
    "    top5 = [(categories[catid], prob.item()) for catid, prob in zip(top5_catid, top5_prob)]\n",
    "\n",
    "    return top5\n",
    "\n",
    "urls = [\n",
    "    \"http://images.cocodataset.org/test-stuff2017/000000024309.jpg\",\n",
    "    \"http://images.cocodataset.org/test-stuff2017/000000028117.jpg\",\n",
    "    \"http://images.cocodataset.org/test-stuff2017/000000006149.jpg\",\n",
    "    \"http://images.cocodataset.org/test-stuff2017/000000004954.jpg\",\n",
    "]\n",
    "\n",
    "preprocess_v2 = weights_v2.transforms()\n",
    "\n",
    "for url in urls:\n",
    "    image = load_image_from_url(url)\n",
    "\n",
    "    plot_image(image)\n",
    "\n",
    "    image = preprocess_v2(image).unsqueeze(0)\n",
    "    predictions_v2 = get_top5_predictions(model_v2, image, weights_v2)\n",
    "    print(f\"Predições com IMAGENET1K_V2 para {url}:\")\n",
    "    for cat, prob in predictions_v2:\n",
    "        print(f\"{cat}: {prob:.2f}\")\n",
    "    print()\n"
   ]
  },
  {
   "cell_type": "markdown",
   "metadata": {},
   "source": [
    "### Exercício 2\n",
    "Compare os resultados obtidos com o modelo VGG16."
   ]
  },
  {
   "cell_type": "code",
   "execution_count": null,
   "metadata": {},
   "outputs": [],
   "source": [
    "# Carregando o modelo VGG16 com pesos pré-treinados\n",
    "model_vgg16 = models.vgg16(pretrained=True)\n",
    "model_vgg16.eval()\n",
    "\n",
    "def load_image_from_url(url):\n",
    "    response = requests.get(url)\n",
    "    img = Image.open(requests.get(url, stream=True).raw)\n",
    "    return img\n",
    "\n",
    "def plot_image(img):\n",
    "    img = np.array(img)\n",
    "    plt.imshow(img)\n",
    "    plt.axis(\"off\")\n",
    "    plt.show()\n",
    "\n",
    "def get_top5_predictions_vgg(model, img):\n",
    "    model.eval()\n",
    "\n",
    "    with torch.no_grad():\n",
    "        output = model(img)\n",
    "\n",
    "    probabilities = torch.nn.functional.softmax(output[0], dim=0)\n",
    "    top5_prob, top5_catid = torch.topk(probabilities, 5)\n",
    "    categories = models.VGG16_Weights.IMAGENET1K_V1.meta[\"categories\"]\n",
    "    top5 = [(categories[catid], prob.item()) for catid, prob in zip(top5_catid, top5_prob)]\n",
    "\n",
    "    return top5\n",
    "\n",
    "preprocess_vgg = models.VGG16_Weights.IMAGENET1K_V1.transforms()\n",
    "\n",
    "for url in urls:\n",
    "    image = load_image_from_url(url)\n",
    "\n",
    "    plot_image(image)\n",
    "\n",
    "    image = preprocess_vgg(image).unsqueeze(0)\n",
    "    predictions_vgg16 = get_top5_predictions_vgg(model_vgg16, image)\n",
    "    print(f\"Predições com VGG16 para {url}:\")\n",
    "    for cat, prob in predictions_vgg16:\n",
    "        print(f\"{cat}: {prob:.2f}\")\n",
    "    print()"
   ]
  }
 ],
 "metadata": {
  "kernelspec": {
   "display_name": "base",
   "language": "python",
   "name": "python3"
  },
  "language_info": {
   "codemirror_mode": {
    "name": "ipython",
    "version": 3
   },
   "file_extension": ".py",
   "mimetype": "text/x-python",
   "name": "python",
   "nbconvert_exporter": "python",
   "pygments_lexer": "ipython3",
   "version": "3.10.13"
  }
 },
 "nbformat": 4,
 "nbformat_minor": 2
}
