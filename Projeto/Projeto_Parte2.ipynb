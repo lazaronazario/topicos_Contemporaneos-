{
 "cells": [
  {
   "cell_type": "markdown",
   "metadata": {},
   "source": [
    "### **Topicos contemporaneos**\n",
    "\n",
    "Grupo:\n",
    "- Ivo Junior\n",
    "- Lázaro Nazário\n",
    "- Luiz Bentes"
   ]
  },
  {
   "cell_type": "code",
   "execution_count": null,
   "metadata": {},
   "outputs": [
    {
     "ename": "",
     "evalue": "",
     "output_type": "error",
     "traceback": [
      "\u001b[1;31mThe Kernel crashed while executing code in the current cell or a previous cell. \n",
      "\u001b[1;31mPlease review the code in the cell(s) to identify a possible cause of the failure. \n",
      "\u001b[1;31mClick <a href='https://aka.ms/vscodeJupyterKernelCrash'>here</a> for more info. \n",
      "\u001b[1;31mView Jupyter <a href='command:jupyter.viewOutput'>log</a> for further details."
     ]
    }
   ],
   "source": [
    "################ Precisei instalar os pacotes abaixo #####################\n",
    "#!pip install langchain faiss-cpu sentence-transformers openai\n",
    "#!pip install -U langchain-community\n",
    "#!pip install pypdf\n",
    "#!pip install tf-keras\n",
    "from langchain.document_loaders import PyPDFLoader\n",
    "from langchain.text_splitter import RecursiveCharacterTextSplitter\n",
    "from langchain.embeddings import HuggingFaceEmbeddings\n",
    "from langchain.vectorstores import FAISS\n",
    "from langchain.chains import RetrievalQA\n",
    "from langchain.chat_models import ChatOpenAI\n",
    "\n",
    "doc = PyPDFLoader(\"https://7rm.eb.mil.br/images/7rm/ssmr/pdfs/2024/OTT/Edital%20OTT%202024-PUBLICAR.pdf\")\n",
    "edital = doc.load()\n",
    "\n",
    "# Splitting dos documentos\n",
    "text_splitter = RecursiveCharacterTextSplitter(chunk_size=1000, chunk_overlap=100)\n",
    "texto = text_splitter.split_documents(edital)\n",
    "\n",
    "# Criar embeddings dos textos usando Hugging Face\n",
    "embeddings = HuggingFaceEmbeddings(model_name=\"sentence-transformers/all-MiniLM-L6-v2\")\n",
    "\n",
    "# Criar Vector Store utilizando FAISS\n",
    "vector_store = FAISS.from_documents(texto, embeddings)\n",
    "\n",
    "# Configurar o sistema de recuperação e geração de respostas\n",
    "qa_chain = RetrievalQA.from_chain_type(\n",
    "    llm=ChatOpenAI(model_name=\"gpt-3.5-turbo\", temperature=0.7, openai_api_key=\"AQUI COLOCA A CHAVE DA API\"),\n",
    "    chain_type=\"stuff\",\n",
    "    retriever=vector_store.as_retriever()\n",
    ")\n",
    "# Testar o sistema com uma consulta\n",
    "query = \"Explique para que serve este edital.\"\n",
    "resultado = qa_chain.run(query)\n",
    "\n",
    "print(resultado)\n"
   ]
  },
  {
   "cell_type": "markdown",
   "metadata": {},
   "source": [
    "Resposta:\n",
    "Este edital serve para convocar candidatos militares da ativa ou da reserva das Forças Armadas, bem como integrantes de Forças Auxiliares, para informar e orientar sobre os procedimentos necessários para participar do processo seletivo. Ele estabelece as regras, requisitos e obrigações que os candidatos devem cumprir durante o processo de seleção complementar, como a apresentação de documentação específica e a ciência das responsabilidades assumidas ao ingressar no Exército Brasileiro. Além disso, o edital também destaca a importância da observância da legislação em vigor e das normas internas das instituições a que os candidatos pertencem."
   ]
  }
 ],
 "metadata": {
  "kernelspec": {
   "display_name": "base",
   "language": "python",
   "name": "python3"
  },
  "language_info": {
   "codemirror_mode": {
    "name": "ipython",
    "version": 3
   },
   "file_extension": ".py",
   "mimetype": "text/x-python",
   "name": "python",
   "nbconvert_exporter": "python",
   "pygments_lexer": "ipython3",
   "version": "3.12.2"
  }
 },
 "nbformat": 4,
 "nbformat_minor": 2
}
