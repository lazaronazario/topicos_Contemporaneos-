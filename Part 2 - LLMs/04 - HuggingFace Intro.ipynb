{
 "cells": [
  {
   "cell_type": "code",
   "execution_count": 15,
   "metadata": {},
   "outputs": [],
   "source": [
    "import torch"
   ]
  },
  {
   "cell_type": "markdown",
   "metadata": {},
   "source": [
    "# Utilizando Modelos Pré-treinados com HuggingFace\n",
    "\n",
    "Hugging Face é uma plataforma que oferece uma ampla variedade de modelos pré-treinados para tarefas de processamento de linguagem natural (NLP). Usar esses modelos permite que você aplique técnicas avançadas de NLP sem precisar treinar um modelo do zero."
   ]
  },
  {
   "cell_type": "markdown",
   "metadata": {},
   "source": [
    "## Tokenizadores\n",
    "\n",
    "Tokenização é o processo de converter texto em tokens, que são as unidades básicas que os modelos de NLP processam. A Hugging Face fornece tokenizadores para diferentes modelos, que geram tokens compatíveis com o modelo que será utilizado.\n",
    "\n",
    "Nesta seção, aprenderemos como carregar e utilizar tokenizadores com Hugging Face."
   ]
  },
  {
   "cell_type": "code",
   "execution_count": 3,
   "metadata": {},
   "outputs": [],
   "source": [
    "from transformers import GPT2Tokenizer, BertTokenizer\n",
    "\n",
    "# Carregando tokenizadores para GPT-2 e BERT\n",
    "gpt2_tokenizer = GPT2Tokenizer.from_pretrained(\"gpt2\")\n",
    "bert_tokenizer = BertTokenizer.from_pretrained(\"bert-base-uncased\")"
   ]
  },
  {
   "cell_type": "code",
   "execution_count": 4,
   "metadata": {},
   "outputs": [
    {
     "name": "stdout",
     "output_type": "stream",
     "text": [
      "Tokens GPT-2: ['Art', 'ificial', 'Ġintelligence', 'Ġis', 'Ġthe', 'Ġfuture', '.']\n",
      "Tokens BERT: ['artificial', 'intelligence', 'is', 'the', 'future', '.']\n"
     ]
    }
   ],
   "source": [
    "# Exemplo de tokenização\n",
    "input_text = \"Artificial intelligence is the future.\"\n",
    "gpt2_tokens = gpt2_tokenizer.tokenize(input_text)\n",
    "bert_tokens = bert_tokenizer.tokenize(input_text)\n",
    "\n",
    "print(f\"Tokens GPT-2: {gpt2_tokens}\")\n",
    "print(f\"Tokens BERT: {bert_tokens}\")"
   ]
  },
  {
   "cell_type": "code",
   "execution_count": 8,
   "metadata": {},
   "outputs": [
    {
     "name": "stdout",
     "output_type": "stream",
     "text": [
      "IDs GPT-2: [8001, 9542, 4430, 318, 262, 2003, 13]\n",
      "IDs BERT: [7976, 4454, 2003, 1996, 2925, 1012]\n"
     ]
    }
   ],
   "source": [
    "gpt2_ids = gpt2_tokenizer.convert_tokens_to_ids(gpt2_tokens)\n",
    "bert_ids = bert_tokenizer.convert_tokens_to_ids(bert_tokens)\n",
    "\n",
    "print(f\"IDs GPT-2: {gpt2_ids}\")\n",
    "print(f\"IDs BERT: {bert_ids}\")"
   ]
  },
  {
   "cell_type": "code",
   "execution_count": 24,
   "metadata": {},
   "outputs": [
    {
     "name": "stdout",
     "output_type": "stream",
     "text": [
      "Input GPT-2: {'input_ids': tensor([[ 818,  257,  995,  810, 9552]]), 'attention_mask': tensor([[1, 1, 1, 1, 1]])}\n",
      "Input BERT: {'input_ids': tensor([[ 101, 1999, 1037, 2088, 2073, 9932,  102]]), 'token_type_ids': tensor([[0, 0, 0, 0, 0, 0, 0]]), 'attention_mask': tensor([[1, 1, 1, 1, 1, 1, 1]])}\n"
     ]
    }
   ],
   "source": [
    "gpt2_input = gpt2_tokenizer(input_text, return_tensors=\"pt\")\n",
    "bert_input = bert_tokenizer(input_text, return_tensors=\"pt\")\n",
    "\n",
    "print(f\"Input GPT-2: {gpt2_input}\")\n",
    "print(f\"Input BERT: {bert_input}\")"
   ]
  },
  {
   "cell_type": "markdown",
   "metadata": {},
   "source": [
    "## Modelos\n",
    "\n",
    "Modelos são as redes neurais que processam os tokens e geram saídas como texto ou embeddings. A Hugging Face disponibiliza uma variedade de modelos, como GPT-2 para geração de texto e BERT para tarefas como busca semântica.\n",
    "\n",
    "Aqui, aprenderemos como carregar e usar esses modelos para diferentes tarefas."
   ]
  },
  {
   "cell_type": "markdown",
   "metadata": {},
   "source": [
    "### Carregando Modelos Pré-Treinados\n",
    "\n",
    "Para começar, vamos carregar modelos pré-treinados como GPT-2 para geração de texto e BERT para criação de embeddings de texto."
   ]
  },
  {
   "cell_type": "code",
   "execution_count": 17,
   "metadata": {},
   "outputs": [
    {
     "data": {
      "application/vnd.jupyter.widget-view+json": {
       "model_id": "61034df642714fd4ab56d727f839ef91",
       "version_major": 2,
       "version_minor": 0
      },
      "text/plain": [
       "Downloading pytorch_model.bin:   0%|          | 0.00/548M [00:00<?, ?B/s]"
      ]
     },
     "metadata": {},
     "output_type": "display_data"
    },
    {
     "data": {
      "application/vnd.jupyter.widget-view+json": {
       "model_id": "04da877f4e2b488c85e5085cbd65f89f",
       "version_major": 2,
       "version_minor": 0
      },
      "text/plain": [
       "Downloading generation_config.json:   0%|          | 0.00/124 [00:00<?, ?B/s]"
      ]
     },
     "metadata": {},
     "output_type": "display_data"
    },
    {
     "data": {
      "application/vnd.jupyter.widget-view+json": {
       "model_id": "036759ecba044039ac184137a625f5ec",
       "version_major": 2,
       "version_minor": 0
      },
      "text/plain": [
       "Downloading pytorch_model.bin:   0%|          | 0.00/440M [00:00<?, ?B/s]"
      ]
     },
     "metadata": {},
     "output_type": "display_data"
    },
    {
     "name": "stderr",
     "output_type": "stream",
     "text": [
      "Some weights of the model checkpoint at bert-base-uncased were not used when initializing BertModel: ['cls.predictions.transform.LayerNorm.bias', 'cls.predictions.decoder.weight', 'cls.predictions.transform.LayerNorm.weight', 'cls.predictions.transform.dense.weight', 'cls.predictions.transform.dense.bias', 'cls.seq_relationship.weight', 'cls.seq_relationship.bias', 'cls.predictions.bias']\n",
      "- This IS expected if you are initializing BertModel from the checkpoint of a model trained on another task or with another architecture (e.g. initializing a BertForSequenceClassification model from a BertForPreTraining model).\n",
      "- This IS NOT expected if you are initializing BertModel from the checkpoint of a model that you expect to be exactly identical (initializing a BertForSequenceClassification model from a BertForSequenceClassification model).\n"
     ]
    }
   ],
   "source": [
    "from transformers import GPT2LMHeadModel, BertModel\n",
    "\n",
    "# Carregando o modelo GPT-2\n",
    "gpt2_model = GPT2LMHeadModel.from_pretrained(\"gpt2\")\n",
    "\n",
    "# Carregando o modelo BERT\n",
    "bert_model = BertModel.from_pretrained(\"bert-base-uncased\")"
   ]
  },
  {
   "cell_type": "markdown",
   "metadata": {},
   "source": [
    "## Geração de Texto\n",
    "\n",
    "Geração de texto consiste em fornecer uma sequência inicial e permitir que o modelo continue gerando texto a partir dessa entrada. Vamos ver como fazer isso com o GPT-2.\n",
    "\n",
    "A geração de texto é uma das aplicações mais comuns de modelos como o GPT-2, que podem ser usados para completar frases, criar histórias ou mesmo gerar código."
   ]
  },
  {
   "cell_type": "code",
   "execution_count": 25,
   "metadata": {},
   "outputs": [
    {
     "name": "stdout",
     "output_type": "stream",
     "text": [
      "Input IDs: {'input_ids': tensor([[ 818,  257,  995,  810, 9552]]), 'attention_mask': tensor([[1, 1, 1, 1, 1]])}\n"
     ]
    }
   ],
   "source": [
    "# Texto de entrada\n",
    "input_text = \"In a world where AI\"\n",
    "\n",
    "# Tokenizando a entrada\n",
    "input_ids = gpt2_tokenizer(input_text, return_tensors=\"pt\")\n",
    "\n",
    "print(f\"Input IDs: {input_ids}\")"
   ]
  },
  {
   "cell_type": "code",
   "execution_count": 34,
   "metadata": {},
   "outputs": [
    {
     "name": "stderr",
     "output_type": "stream",
     "text": [
      "Setting `pad_token_id` to `eos_token_id`:50256 for open-end generation.\n"
     ]
    },
    {
     "name": "stdout",
     "output_type": "stream",
     "text": [
      "torch.Size([1, 50])\n",
      "Output: tensor([[  818,   257,   995,   810,  9552,   318,   257,  1263,  1917,    11,\n",
      "           340,   338,  1593,   284,  1833,   703,   340,  2499,    13,   198,\n",
      "           198,   464,  1917,   318,   326,  9552,   318,   407,   257,  1917,\n",
      "           379,   477,    13,   632,   338,   257,  1917,   326,   460,   307,\n",
      "         16019,   416,   257,  1256,   286,  1180, 10581,    13,   198,   198]])\n"
     ]
    }
   ],
   "source": [
    "# Gerando o texto\n",
    "output = gpt2_model.generate(**input_ids, max_length=50)\n",
    "\n",
    "print(output.shape)\n",
    "print(f\"Output: {output}\")"
   ]
  },
  {
   "cell_type": "code",
   "execution_count": 33,
   "metadata": {},
   "outputs": [
    {
     "name": "stdout",
     "output_type": "stream",
     "text": [
      "In a world where AI is a big problem, it's important to understand how it works.\n",
      "\n",
      "The problem is that AI is not a problem at all. It's a problem that can be solved by a lot of different approaches.\n",
      "\n",
      "\n"
     ]
    }
   ],
   "source": [
    "# Decodificando o texto gerado\n",
    "generated_text = gpt2_tokenizer.decode(output[0])\n",
    "print(generated_text)"
   ]
  }
 ],
 "metadata": {
  "kernelspec": {
   "display_name": "base",
   "language": "python",
   "name": "python3"
  },
  "language_info": {
   "codemirror_mode": {
    "name": "ipython",
    "version": 3
   },
   "file_extension": ".py",
   "mimetype": "text/x-python",
   "name": "python",
   "nbconvert_exporter": "python",
   "pygments_lexer": "ipython3",
   "version": "3.10.13"
  }
 },
 "nbformat": 4,
 "nbformat_minor": 2
}
